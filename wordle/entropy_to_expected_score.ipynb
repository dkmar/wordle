{
 "cells": [
  {
   "cell_type": "code",
   "execution_count": 2,
   "id": "initial_id",
   "metadata": {
    "collapsed": true,
    "ExecuteTime": {
     "end_time": "2023-11-30T04:13:40.088881Z",
     "start_time": "2023-11-30T04:13:37.384497Z"
    }
   },
   "outputs": [],
   "source": [
    "import numpy as np\n",
    "import pandas as pd\n",
    "from sklearn.model_selection import train_test_split\n",
    "from sklearn.linear_model import LinearRegression\n",
    "from sklearn import metrics"
   ]
  },
  {
   "cell_type": "code",
   "execution_count": 6,
   "outputs": [],
   "source": [
    "data = pd.read_csv('data/entropy_rem.dat', sep=' ', header=None)\n",
    "data.columns = ['entropy', 'guesses']"
   ],
   "metadata": {
    "collapsed": false,
    "ExecuteTime": {
     "end_time": "2023-11-30T04:16:02.302428Z",
     "start_time": "2023-11-30T04:16:02.296265Z"
    }
   },
   "id": "ea3d67391aa0a9e6"
  },
  {
   "cell_type": "code",
   "execution_count": 11,
   "outputs": [],
   "source": [
    "X = data['entropy'].values.reshape(-1,1)\n",
    "Y = data['guesses'].values.reshape(-1,1)"
   ],
   "metadata": {
    "collapsed": false,
    "ExecuteTime": {
     "end_time": "2023-11-30T04:19:28.386751Z",
     "start_time": "2023-11-30T04:19:28.334968Z"
    }
   },
   "id": "ff260236751cf7cd"
  },
  {
   "cell_type": "code",
   "execution_count": null,
   "outputs": [],
   "source": [
    "regressor = LinearRegression()\n",
    "regressor.fit(X, Y)"
   ],
   "metadata": {
    "collapsed": false
   },
   "id": "6d794103175b97a2"
  },
  {
   "cell_type": "code",
   "execution_count": 16,
   "outputs": [
    {
     "data": {
      "text/plain": "array([[0.25066396]])"
     },
     "execution_count": 16,
     "metadata": {},
     "output_type": "execute_result"
    }
   ],
   "source": [
    "regressor.coef_"
   ],
   "metadata": {
    "collapsed": false,
    "ExecuteTime": {
     "end_time": "2023-11-30T04:20:48.294108Z",
     "start_time": "2023-11-30T04:20:48.281261Z"
    }
   },
   "id": "4ea38529f682ccd2"
  },
  {
   "cell_type": "code",
   "execution_count": 17,
   "outputs": [
    {
     "data": {
      "text/plain": "array([1.16938445])"
     },
     "execution_count": 17,
     "metadata": {},
     "output_type": "execute_result"
    }
   ],
   "source": [
    "regressor.intercept_"
   ],
   "metadata": {
    "collapsed": false,
    "ExecuteTime": {
     "end_time": "2023-11-30T04:21:24.564385Z",
     "start_time": "2023-11-30T04:21:24.547237Z"
    }
   },
   "id": "c652e2348355595a"
  },
  {
   "cell_type": "code",
   "execution_count": 20,
   "outputs": [],
   "source": [
    "test_data = pd.read_csv('data/test_entropy_rem.dat', sep=' ', header=None)\n",
    "test_data.columns = ['entropy', 'guesses']"
   ],
   "metadata": {
    "collapsed": false,
    "ExecuteTime": {
     "end_time": "2023-11-30T04:33:16.996250Z",
     "start_time": "2023-11-30T04:33:16.983200Z"
    }
   },
   "id": "c68bd7339dd21319"
  },
  {
   "cell_type": "code",
   "execution_count": 21,
   "outputs": [],
   "source": [
    "X_Test = test_data['entropy'].values.reshape(-1,1)\n",
    "Y_Test = test_data['guesses'].values.reshape(-1,1)"
   ],
   "metadata": {
    "collapsed": false,
    "ExecuteTime": {
     "end_time": "2023-11-30T04:33:20.972915Z",
     "start_time": "2023-11-30T04:33:20.962283Z"
    }
   },
   "id": "8969e879346cd405"
  },
  {
   "cell_type": "code",
   "execution_count": 22,
   "outputs": [
    {
     "name": "stdout",
     "output_type": "stream",
     "text": [
      "Mean squared error: 0.41\n",
      "Coefficient of determination: 0.60\n"
     ]
    }
   ],
   "source": [
    "pred_guesses = regressor.predict(X_Test)\n",
    "mse = metrics.mean_squared_error(Y_Test, pred_guesses)\n",
    "cod = metrics.r2_score(Y_Test, pred_guesses)\n",
    "print(f'Mean squared error: {mse:.2f}')\n",
    "print(f'Coefficient of determination: {cod:.2f}')"
   ],
   "metadata": {
    "collapsed": false,
    "ExecuteTime": {
     "end_time": "2023-11-30T04:33:22.288629Z",
     "start_time": "2023-11-30T04:33:22.222980Z"
    }
   },
   "id": "b637e31d949852f"
  },
  {
   "cell_type": "code",
   "execution_count": 27,
   "outputs": [],
   "source": [
    "from sklearn import linear_model, svm, tree, ensemble\n",
    "\n",
    "regressors = [\n",
    "    linear_model.LinearRegression(),\n",
    "    linear_model.Ridge(),\n",
    "    linear_model.Lasso(),\n",
    "    linear_model.ElasticNet(),\n",
    "    svm.SVR(),\n",
    "    tree.DecisionTreeRegressor(),\n",
    "    ensemble.RandomForestRegressor(),\n",
    "    ensemble.GradientBoostingRegressor()\n",
    "]"
   ],
   "metadata": {
    "collapsed": false,
    "ExecuteTime": {
     "end_time": "2023-11-30T04:39:17.790520Z",
     "start_time": "2023-11-30T04:39:17.716241Z"
    }
   },
   "id": "ded7ceef41c03443"
  },
  {
   "cell_type": "code",
   "execution_count": 28,
   "outputs": [
    {
     "name": "stdout",
     "output_type": "stream",
     "text": [
      "LinearRegression\n",
      "Mean squared error: 0.41\n",
      "Coefficient of determination: 0.60\n",
      "\n",
      "Ridge\n",
      "Mean squared error: 0.41\n",
      "Coefficient of determination: 0.60\n",
      "\n",
      "Lasso\n",
      "Mean squared error: 0.68\n",
      "Coefficient of determination: 0.33\n",
      "\n",
      "ElasticNet\n",
      "Mean squared error: 0.52\n",
      "Coefficient of determination: 0.49\n"
     ]
    },
    {
     "name": "stderr",
     "output_type": "stream",
     "text": [
      "/Users/dkmar/repos/wordle/venv/lib/python3.11/site-packages/sklearn/utils/validation.py:1183: DataConversionWarning: A column-vector y was passed when a 1d array was expected. Please change the shape of y to (n_samples, ), for example using ravel().\n",
      "  y = column_or_1d(y, warn=True)\n"
     ]
    },
    {
     "name": "stdout",
     "output_type": "stream",
     "text": [
      "SVR\n",
      "Mean squared error: 0.41\n",
      "Coefficient of determination: 0.59\n",
      "\n",
      "DecisionTreeRegressor\n",
      "Mean squared error: 0.42\n",
      "Coefficient of determination: 0.58\n",
      "\n",
      "RandomForestRegressor\n",
      "Mean squared error: 0.42\n",
      "Coefficient of determination: 0.58\n"
     ]
    },
    {
     "name": "stderr",
     "output_type": "stream",
     "text": [
      "/Users/dkmar/repos/wordle/venv/lib/python3.11/site-packages/sklearn/base.py:1152: DataConversionWarning: A column-vector y was passed when a 1d array was expected. Please change the shape of y to (n_samples,), for example using ravel().\n",
      "  return fit_method(estimator, *args, **kwargs)\n",
      "/Users/dkmar/repos/wordle/venv/lib/python3.11/site-packages/sklearn/ensemble/_gb.py:424: DataConversionWarning: A column-vector y was passed when a 1d array was expected. Please change the shape of y to (n_samples, ), for example using ravel().\n",
      "  y = column_or_1d(y, warn=True)\n"
     ]
    },
    {
     "name": "stdout",
     "output_type": "stream",
     "text": [
      "GradientBoostingRegressor\n",
      "Mean squared error: 0.42\n",
      "Coefficient of determination: 0.59\n"
     ]
    }
   ],
   "source": [
    "for regressor in regressors:\n",
    "    regressor.fit(X, Y)\n",
    "    pred_guesses = regressor.predict(X_Test)\n",
    "    mse = metrics.mean_squared_error(Y_Test, pred_guesses)\n",
    "    cod = metrics.r2_score(Y_Test, pred_guesses)\n",
    "    print(f'{regressor.__class__.__name__}') \n",
    "    print(f'Mean squared error: {mse:.2f}')\n",
    "    print(f'Coefficient of determination: {cod:.2f}')\n",
    "    print()"
   ],
   "metadata": {
    "collapsed": false,
    "ExecuteTime": {
     "end_time": "2023-11-30T04:40:55.707670Z",
     "start_time": "2023-11-30T04:40:54.892161Z"
    }
   },
   "id": "ed6723a6f82c056"
  },
  {
   "cell_type": "code",
   "execution_count": 32,
   "outputs": [
    {
     "data": {
      "text/plain": "1.9374913528012172"
     },
     "execution_count": 32,
     "metadata": {},
     "output_type": "execute_result"
    }
   ],
   "source": [
    "np.log(2.906 + 2.546 * 1.584963)"
   ],
   "metadata": {
    "collapsed": false,
    "ExecuteTime": {
     "end_time": "2023-11-30T10:01:45.657377Z",
     "start_time": "2023-11-30T10:01:45.653257Z"
    }
   },
   "id": "4e50d443f0a3b53f"
  },
  {
   "cell_type": "code",
   "execution_count": 33,
   "outputs": [
    {
     "data": {
      "text/plain": "2.8449705249735047"
     },
     "execution_count": 33,
     "metadata": {},
     "output_type": "execute_result"
    }
   ],
   "source": [
    "np.log(2.906 + 2.546 * 5.614710)"
   ],
   "metadata": {
    "collapsed": false,
    "ExecuteTime": {
     "end_time": "2023-11-30T10:02:07.397426Z",
     "start_time": "2023-11-30T10:02:07.391420Z"
    }
   },
   "id": "4ac367d3e0b52980"
  },
  {
   "cell_type": "code",
   "execution_count": 37,
   "outputs": [
    {
     "data": {
      "text/plain": "1.422966592752472"
     },
     "execution_count": 37,
     "metadata": {},
     "output_type": "execute_result"
    }
   ],
   "source": [
    "np.exp(0.1318 + 0.1394 * 1.584963)"
   ],
   "metadata": {
    "collapsed": false,
    "ExecuteTime": {
     "end_time": "2023-11-30T10:07:39.654396Z",
     "start_time": "2023-11-30T10:07:39.647953Z"
    }
   },
   "id": "11dea2863bf1274d"
  },
  {
   "cell_type": "code",
   "execution_count": 60,
   "outputs": [],
   "source": [
    "def bluebrown(ent):\n",
    "    # ent = 5.614710\n",
    "    # Assuming you can definitely get it in the next guess,\n",
    "    # this is the expected score\n",
    "    min_score = 2**(-ent) + 2 * (1 - 2**(-ent))\n",
    "    \n",
    "    # To account for the likely uncertainty after the next guess,\n",
    "    # and knowing that entropy of 11.5 bits seems to have average\n",
    "    # score of 3.5, we add a line to account\n",
    "    # we add a line which connects (0, 0) to (3.5, 11.5)\n",
    "    return min_score + 1.5 * ent / 11.5\n",
    "\n",
    "def exp_glm(ent):\n",
    "    return np.log(2.906 + 2.546 * ent)\n",
    "\n",
    "def ln_glm(ent):\n",
    "    return np.exp(0.1318 + 0.1394 * ent)\n",
    "\n",
    "def sk_lr(ent):\n",
    "    return 1.169384 + 0.250664 * ent\n",
    "\n",
    "def np_fit(ent):\n",
    "    return 1.182898 + 0.573493 * np.log2(ent, out=np.zeros_like(ent), where=(ent>0))"
   ],
   "metadata": {
    "collapsed": false,
    "ExecuteTime": {
     "end_time": "2023-11-30T10:45:21.625111Z",
     "start_time": "2023-11-30T10:45:21.619551Z"
    }
   },
   "id": "5c745fdf04eb76e6"
  },
  {
   "cell_type": "code",
   "execution_count": 61,
   "outputs": [
    {
     "name": "stdout",
     "output_type": "stream",
     "text": [
      "bluebrown\n",
      "Mean squared error: 0.39\n",
      "Coefficient of determination: 0.61\n",
      "exp_glm\n",
      "Mean squared error: 0.40\n",
      "Coefficient of determination: 0.61\n",
      "ln_glm\n",
      "Mean squared error: 0.47\n",
      "Coefficient of determination: 0.54\n",
      "sk_lr\n",
      "Mean squared error: 0.41\n",
      "Coefficient of determination: 0.60\n",
      "np_fit\n",
      "Mean squared error: 0.43\n",
      "Coefficient of determination: 0.58\n"
     ]
    }
   ],
   "source": [
    "for metric in [bluebrown, exp_glm, ln_glm, sk_lr, np_fit]:\n",
    "    print(f'{metric.__name__}')\n",
    "    Y_approx = metric(X_Test)\n",
    "    mse = metrics.mean_squared_error(Y_Test, Y_approx)\n",
    "    cod = metrics.r2_score(Y_Test, Y_approx)\n",
    "    print(f'Mean squared error: {mse:.2f}')\n",
    "    print(f'Coefficient of determination: {cod:.2f}')\n",
    "    "
   ],
   "metadata": {
    "collapsed": false,
    "ExecuteTime": {
     "end_time": "2023-11-30T10:45:22.148847Z",
     "start_time": "2023-11-30T10:45:22.131075Z"
    }
   },
   "id": "19cc1e666fced38c"
  },
  {
   "cell_type": "code",
   "execution_count": 29,
   "outputs": [
    {
     "data": {
      "text/plain": "    entropy  guesses\n0  6.832890        3\n1  1.584963        2\n2  0.000000        1\n3  5.614710        3\n4  3.321928        2",
      "text/html": "<div>\n<style scoped>\n    .dataframe tbody tr th:only-of-type {\n        vertical-align: middle;\n    }\n\n    .dataframe tbody tr th {\n        vertical-align: top;\n    }\n\n    .dataframe thead th {\n        text-align: right;\n    }\n</style>\n<table border=\"1\" class=\"dataframe\">\n  <thead>\n    <tr style=\"text-align: right;\">\n      <th></th>\n      <th>entropy</th>\n      <th>guesses</th>\n    </tr>\n  </thead>\n  <tbody>\n    <tr>\n      <th>0</th>\n      <td>6.832890</td>\n      <td>3</td>\n    </tr>\n    <tr>\n      <th>1</th>\n      <td>1.584963</td>\n      <td>2</td>\n    </tr>\n    <tr>\n      <th>2</th>\n      <td>0.000000</td>\n      <td>1</td>\n    </tr>\n    <tr>\n      <th>3</th>\n      <td>5.614710</td>\n      <td>3</td>\n    </tr>\n    <tr>\n      <th>4</th>\n      <td>3.321928</td>\n      <td>2</td>\n    </tr>\n  </tbody>\n</table>\n</div>"
     },
     "execution_count": 29,
     "metadata": {},
     "output_type": "execute_result"
    }
   ],
   "source": [
    "test_data.head()"
   ],
   "metadata": {
    "collapsed": false,
    "ExecuteTime": {
     "end_time": "2023-11-30T09:55:40.550529Z",
     "start_time": "2023-11-30T09:55:40.525017Z"
    }
   },
   "id": "a130bf7bf5663e5c"
  },
  {
   "cell_type": "code",
   "execution_count": 49,
   "outputs": [],
   "source": [
    "x = data['entropy'].values\n",
    "y = data['guesses'].values\n"
   ],
   "metadata": {
    "collapsed": false,
    "ExecuteTime": {
     "end_time": "2023-11-30T10:31:50.493993Z",
     "start_time": "2023-11-30T10:31:50.479229Z"
    }
   },
   "id": "1635e3bac81f6cdf"
  },
  {
   "cell_type": "code",
   "execution_count": 53,
   "outputs": [],
   "source": [
    "from numpy.polynomial import Polynomial\n",
    "pfit = Polynomial.fit(np.log2(x, out=np.zeros_like(x), where=(x>0)), y, deg=1)"
   ],
   "metadata": {
    "collapsed": false,
    "ExecuteTime": {
     "end_time": "2023-11-30T10:38:49.438009Z",
     "start_time": "2023-11-30T10:38:49.430225Z"
    }
   },
   "id": "abdc35f02fa10cef"
  },
  {
   "cell_type": "code",
   "execution_count": 62,
   "outputs": [
    {
     "data": {
      "text/plain": "array([1.18289791, 0.57349342])"
     },
     "execution_count": 62,
     "metadata": {},
     "output_type": "execute_result"
    }
   ],
   "source": [
    "pfit.convert().coef"
   ],
   "metadata": {
    "collapsed": false,
    "ExecuteTime": {
     "end_time": "2023-11-30T12:17:50.364646Z",
     "start_time": "2023-11-30T12:17:50.353612Z"
    }
   },
   "id": "614069b710b836ef"
  },
  {
   "cell_type": "code",
   "execution_count": null,
   "outputs": [],
   "source": [],
   "metadata": {
    "collapsed": false
   },
   "id": "56fed23b4ab3e028"
  }
 ],
 "metadata": {
  "kernelspec": {
   "display_name": "Python 3",
   "language": "python",
   "name": "python3"
  },
  "language_info": {
   "codemirror_mode": {
    "name": "ipython",
    "version": 2
   },
   "file_extension": ".py",
   "mimetype": "text/x-python",
   "name": "python",
   "nbconvert_exporter": "python",
   "pygments_lexer": "ipython2",
   "version": "2.7.6"
  }
 },
 "nbformat": 4,
 "nbformat_minor": 5
}
